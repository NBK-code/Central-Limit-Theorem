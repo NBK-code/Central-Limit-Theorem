{
  "nbformat": 4,
  "nbformat_minor": 0,
  "metadata": {
    "colab": {
      "name": "Central_Limit_Theorem.ipynb",
      "provenance": [],
      "collapsed_sections": [],
      "authorship_tag": "ABX9TyO+jpE0hvJieYfjQwHnRY5W",
      "include_colab_link": true
    },
    "kernelspec": {
      "name": "python3",
      "display_name": "Python 3"
    },
    "language_info": {
      "name": "python"
    },
    "accelerator": "GPU"
  },
  "cells": [
    {
      "cell_type": "markdown",
      "metadata": {
        "id": "view-in-github",
        "colab_type": "text"
      },
      "source": [
        "<a href=\"https://colab.research.google.com/github/NBK-code/Central-Limit-Theorem/blob/main/Central_Limit_Theorem.ipynb\" target=\"_parent\"><img src=\"https://colab.research.google.com/assets/colab-badge.svg\" alt=\"Open In Colab\"/></a>"
      ]
    },
    {
      "cell_type": "markdown",
      "metadata": {
        "id": "QsCL7vWYdVNE"
      },
      "source": [
        "# Central Limit Theorem"
      ]
    },
    {
      "cell_type": "markdown",
      "metadata": {
        "id": "dlT2VFbOdZR_"
      },
      "source": [
        "The central limit theorem states that in many situations, when a bunch of independent random variables are added together, their normalized sum tends to a Gaussian distribution. \n",
        "\n",
        "It is easy to see why this theorem must be true. For simplicity, we could consider a situation of rolling a dice $n$ times. When the dice is rolled once, there are six possibilities for the outcome and each of it is equally likely. Now we could roll the dice $n$ times and ask for example, what is the likelihood for the sum of the outcomes to be $6n$. Of course, there is only one way the sum could be $6n$ and that is when each of the $n$ throws turn out an outcome of $6$. Assuming the dice is fair, the probability of this to happen is low and is in fact just $6^{-n}$. By a similar argument, the probability for the sum to be exactly $n$ is also $6^{-n}$. On the other hand, what is the probability for the sum to be $3n$? There are many ways one could get a sum of $3n$. One possibility is when each of the throws give an outcome of $3$. Or the first five being $1,2,3,4,5$ and the rest just $3$. Now one could also permute the order in which the outcomes $1,2,3,4,5$ occur and you would still get a sum of $3n$. It is clear that there are a numerous possibilities to get a sum of $3n$ and hence a higher probability. Similarly, we could consider other values for the sum of the outcomes. As one moves from $n$ to $3n$ to $6n$, the probability for the sum starts at the lowest possibile value, increases and then again decreases to the lowest. At the very least, this smells like a Gaussian distribution. In fact, it can be rigorously proven that in the limit $n\\rightarrow\\infty$, the final distribution is indeed a Gaussian. By normalizing the sum i.e. by taking the mean, we would still get a Gaussian distribution.\n",
        "\n",
        "In this notebook, we demonstrate how starting with different probability distributions one gets a Gaussian-like distribution by taking a mean of $n$ samples of the original distribution. The \"Gaussian-like\" becomes a true Gaussian in the large $n$ limit.\n",
        "\n",
        "\n",
        "\n",
        "\n",
        "Let us start by importing the neccessary libraries."
      ]
    },
    {
      "cell_type": "code",
      "metadata": {
        "id": "CeDeh_ZxdWDn"
      },
      "source": [
        "import tensorflow as tf\n",
        "import tensorflow_probability as tfp\n",
        "tfd = tfp.distributions\n",
        "tfb = tfp.bijectors\n",
        "\n",
        "import numpy as np\n",
        "import matplotlib.pyplot as plt"
      ],
      "execution_count": 1,
      "outputs": []
    },
    {
      "cell_type": "markdown",
      "metadata": {
        "id": "Y5XPda7sdypK"
      },
      "source": [
        "The following function takes in a distribution object as argument, samples from it, finds the mean of every $n$ samples, and returns them."
      ]
    },
    {
      "cell_type": "code",
      "metadata": {
        "id": "Qxw4OcdAdte-"
      },
      "source": [
        "def mean_of_random_variables(distribution, n=10):\n",
        "    sample_size = 1000*n\n",
        "    x = distribution.sample(sample_size)\n",
        "    z = []\n",
        "    for i in range(int(sample_size/n)):\n",
        "        temp = 0\n",
        "        for j in range(n):\n",
        "            temp += x[n*i+j]\n",
        "        z.append(temp/n)\n",
        "        \n",
        "    return z "
      ],
      "execution_count": 2,
      "outputs": []
    },
    {
      "cell_type": "markdown",
      "metadata": {
        "id": "-xgczQejd34o"
      },
      "source": [
        "Now let us sample from various distributions, find the mean and plot them in histograms to see the Gaussian distribution emerge. "
      ]
    },
    {
      "cell_type": "markdown",
      "metadata": {
        "id": "mdgmb2zOd9Gl"
      },
      "source": [
        "## Uniform distribution\n"
      ]
    },
    {
      "cell_type": "markdown",
      "metadata": {
        "id": "kySyk3N2eBaL"
      },
      "source": [
        "Let us start with the simplest of probability distributions: the uniform distribution. First, we create a uniform distribution object which is then passed to mean_of_random_variables() function. The function returns an array of values obtained by taking the mean of $n$ samples of the uniform distribution."
      ]
    },
    {
      "cell_type": "code",
      "metadata": {
        "id": "s_yF0wL6d2md"
      },
      "source": [
        "uniform = tfd.Uniform(low=0.0, high=1)"
      ],
      "execution_count": 3,
      "outputs": []
    },
    {
      "cell_type": "code",
      "metadata": {
        "colab": {
          "base_uri": "https://localhost:8080/",
          "height": 265
        },
        "id": "aJDt8r9feIpX",
        "outputId": "ffa8ee98-3f48-40ab-fd52-b356e5d6e6a4"
      },
      "source": [
        "z = mean_of_random_variables(uniform, n=50)\n",
        "plt.hist(z, bins = 50)\n",
        "plt.show()"
      ],
      "execution_count": 4,
      "outputs": [
        {
          "output_type": "display_data",
          "data": {
            "image/png": "[encoded data removed]",
            "text/plain": [
              "<Figure size 432x288 with 1 Axes>"
            ]
          },
          "metadata": {
            "tags": [],
            "needs_background": "light"
          }
        }
      ]
    },
    {
      "cell_type": "markdown",
      "metadata": {
        "id": "kMUhVFdUeQ_a"
      },
      "source": [
        "## Bernoulli Distribution"
      ]
    },
    {
      "cell_type": "markdown",
      "metadata": {
        "id": "1UWYTdZeeSUy"
      },
      "source": [
        "The Bernoulli distribution describes coin toss. The probs argument gives the probability of heads. Let us first start with a fair coin i.e. probs = 0.5."
      ]
    },
    {
      "cell_type": "code",
      "metadata": {
        "id": "2NcW1_WjeMXh"
      },
      "source": [
        "bernoulli_1 = tfd.Bernoulli(probs=0.5)"
      ],
      "execution_count": 5,
      "outputs": []
    },
    {
      "cell_type": "code",
      "metadata": {
        "colab": {
          "base_uri": "https://localhost:8080/",
          "height": 265
        },
        "id": "X_TnlDhXeYOi",
        "outputId": "dee1337a-0605-44e0-b181-a7c27f83f485"
      },
      "source": [
        "z = mean_of_random_variables(bernoulli_1, n=30)\n",
        "plt.hist(z, bins = 150)\n",
        "plt.show()"
      ],
      "execution_count": 6,
      "outputs": [
        {
          "output_type": "display_data",
          "data": {
            "image/png": "[encoded data removed]",
            "text/plain": [
              "<Figure size 432x288 with 1 Axes>"
            ]
          },
          "metadata": {
            "tags": [],
            "needs_background": "light"
          }
        }
      ]
    },
    {
      "cell_type": "markdown",
      "metadata": {
        "id": "xb0CMZudegj7"
      },
      "source": [
        "We could also use a loaded coin that heavly favors one side."
      ]
    },
    {
      "cell_type": "code",
      "metadata": {
        "id": "Yyedr9Ktebrg"
      },
      "source": [
        "bernoulli_2 = tfd.Bernoulli(probs=0.1)"
      ],
      "execution_count": 7,
      "outputs": []
    },
    {
      "cell_type": "code",
      "metadata": {
        "colab": {
          "base_uri": "https://localhost:8080/",
          "height": 265
        },
        "id": "a-OYuIK_ejV4",
        "outputId": "25997452-142e-4068-d776-fe25e343d2d0"
      },
      "source": [
        "z = mean_of_random_variables(bernoulli_2, n=100)\n",
        "plt.hist(z, bins = 150)\n",
        "plt.show()"
      ],
      "execution_count": 8,
      "outputs": [
        {
          "output_type": "display_data",
          "data": {
            "image/png": "[encoded data removed]",
            "text/plain": [
              "<Figure size 432x288 with 1 Axes>"
            ]
          },
          "metadata": {
            "tags": [],
            "needs_background": "light"
          }
        }
      ]
    },
    {
      "cell_type": "markdown",
      "metadata": {
        "id": "R6wk9UtyepY4"
      },
      "source": [
        "## Categorical Distribution"
      ]
    },
    {
      "cell_type": "markdown",
      "metadata": {
        "id": "HEhB2FM7eq9_"
      },
      "source": [
        "Categorical distribution describes a dice roll. We start by constructing a categorical distribution object with six equally likely outcomes."
      ]
    },
    {
      "cell_type": "code",
      "metadata": {
        "id": "w7kcA8R7el5L"
      },
      "source": [
        "categorical_1 = tfd.Categorical(probs=[1/6, 1/6, 1/6, 1/6, 1/6, 1/6])"
      ],
      "execution_count": 9,
      "outputs": []
    },
    {
      "cell_type": "code",
      "metadata": {
        "colab": {
          "base_uri": "https://localhost:8080/",
          "height": 265
        },
        "id": "l1xyXInOexv5",
        "outputId": "7467f15d-d1d7-46da-e176-93b6f213d39b"
      },
      "source": [
        "z = mean_of_random_variables(categorical_1, n=30)\n",
        "plt.hist(z, bins = 150)\n",
        "plt.show()"
      ],
      "execution_count": 10,
      "outputs": [
        {
          "output_type": "display_data",
          "data": {
            "image/png": "[encoded data removed]",
            "text/plain": [
              "<Figure size 432x288 with 1 Axes>"
            ]
          },
          "metadata": {
            "tags": [],
            "needs_background": "light"
          }
        }
      ]
    },
    {
      "cell_type": "markdown",
      "metadata": {
        "id": "vSkfFhFfe4fs"
      },
      "source": [
        "What if the dice is loaded so that only three of the six sides are favoured? Even here we get a Gaussian-like distribution."
      ]
    },
    {
      "cell_type": "code",
      "metadata": {
        "id": "klt2nO2te0bz"
      },
      "source": [
        "categorical_1 = tfd.Categorical(probs=[1/3, 1/3, 1/3, 0, 0, 0])"
      ],
      "execution_count": 11,
      "outputs": []
    },
    {
      "cell_type": "code",
      "metadata": {
        "colab": {
          "base_uri": "https://localhost:8080/",
          "height": 265
        },
        "id": "yZoHyzzDe9A4",
        "outputId": "a42f3a79-53e3-40e7-d507-1e36196bb099"
      },
      "source": [
        "z = mean_of_random_variables(categorical_1, n=30)\n",
        "plt.hist(z, bins = 150)\n",
        "plt.show()"
      ],
      "execution_count": 12,
      "outputs": [
        {
          "output_type": "display_data",
          "data": {
            "image/png": "[encoded data removed]",
            "text/plain": [
              "<Figure size 432x288 with 1 Axes>"
            ]
          },
          "metadata": {
            "tags": [],
            "needs_background": "light"
          }
        }
      ]
    },
    {
      "cell_type": "markdown",
      "metadata": {
        "id": "Gm8hWXv6fD83"
      },
      "source": [
        "Even though we get Gaussian-like distibutions in both the unloaded and loaded dice cases, the mean of the distributions are clearly different."
      ]
    },
    {
      "cell_type": "markdown",
      "metadata": {
        "id": "H4vSHs6pfOGA"
      },
      "source": [
        "# Random Walk and Diffusion Process\n"
      ]
    },
    {
      "cell_type": "markdown",
      "metadata": {
        "id": "x-EZzykqfS4V"
      },
      "source": [
        "The central limit theorem can be used to explain the diffusion process. The diffusion in one dimension can be modeled as a random walk process of a single particle. By random walk, what is meant is that at any given step the particle could move either left or right by one unit with equal probability. Now if the particle starts at the origin, what is its position after $n$ steps? It more likely to be the origin itself, given that both the left and right movements are equally likely. We could do a little better in trying to get the position of the particle. Let us try to model the probability distribution for the particle's position using histogram plots.\n",
        "\n",
        "First, let us create a Categorical distribution object with two events of equal probability."
      ]
    },
    {
      "cell_type": "code",
      "metadata": {
        "id": "Dw8ZPwPGe_Bp"
      },
      "source": [
        "random_walk = tfd.Categorical(probs = [1/2, 1/2])"
      ],
      "execution_count": 13,
      "outputs": []
    },
    {
      "cell_type": "markdown",
      "metadata": {
        "id": "jlhZoYA_fZxR"
      },
      "source": [
        "The random_walk distribution object has event space $s = \\{0,1\\}$, while we need an event space of $x = \\{-1,1\\}$ to model left and right movement. One can move from one event space to another using a simple bijection $x = 2s-1$. The following function maps the event space and then adds $n$ samples to get the position after $n$ steps."
      ]
    },
    {
      "cell_type": "code",
      "metadata": {
        "id": "_v7QOEyvfZBJ"
      },
      "source": [
        "def random_walk_n_steps(distribution, steps):\n",
        "    sample_size = 1000*steps\n",
        "    x = 2*distribution.sample(sample_size)-1\n",
        "    z = []\n",
        "    for i in range(int(sample_size/steps)):\n",
        "        temp = 0\n",
        "        for j in range(steps):\n",
        "            temp += x[steps*i+j]\n",
        "        z.append(temp)\n",
        "        \n",
        "    return z "
      ],
      "execution_count": 14,
      "outputs": []
    },
    {
      "cell_type": "markdown",
      "metadata": {
        "id": "fontPqvBfjFy"
      },
      "source": [
        "Let us get the histogram plots for the particle's position after $20, 200, 600, 1000$, and $2000$ steps."
      ]
    },
    {
      "cell_type": "code",
      "metadata": {
        "id": "_hoxLb_Xffss"
      },
      "source": [
        "z1 = random_walk_n_steps(random_walk, steps=20)\n",
        "z2 = random_walk_n_steps(random_walk, steps=200)\n",
        "z3 = random_walk_n_steps(random_walk, steps=600)\n",
        "z4 = random_walk_n_steps(random_walk, steps=1000)\n",
        "z5 = random_walk_n_steps(random_walk, steps=2000)"
      ],
      "execution_count": 15,
      "outputs": []
    },
    {
      "cell_type": "code",
      "metadata": {
        "colab": {
          "base_uri": "https://localhost:8080/",
          "height": 265
        },
        "id": "9kibyADxfmoa",
        "outputId": "ff3b6a32-dc8c-47d1-b426-344b778ca165"
      },
      "source": [
        "plt.figure(figsize=(18,4))\n",
        "plt.subplot(1,5,1)\n",
        "plt.hist(z1, bins = 150, range=[-150,150], facecolor = 'green')\n",
        "plt.subplot(1,5,2)\n",
        "plt.hist(z2, bins = 150, range=[-150,150], facecolor = 'green')\n",
        "plt.subplot(1,5,3)\n",
        "plt.hist(z3, bins = 150, range=[-150,150], facecolor = 'green')\n",
        "plt.subplot(1,5,4)\n",
        "plt.hist(z4, bins = 150, range=[-150,150], facecolor = 'green')\n",
        "plt.subplot(1,5,5)\n",
        "plt.hist(z5, bins = 150, range=[-150,150], facecolor = 'green')\n",
        "plt.show()"
      ],
      "execution_count": 16,
      "outputs": [
        {
          "output_type": "display_data",
          "data": {
            "image/png": "[encoded data removed]",
            "text/plain": [
              "<Figure size 1296x288 with 5 Axes>"
            ]
          },
          "metadata": {
            "tags": [],
            "needs_background": "light"
          }
        }
      ]
    },
    {
      "cell_type": "markdown",
      "metadata": {
        "id": "U44bC0ttfvAM"
      },
      "source": [
        "The following can be observed from the histogram plots:\n",
        "\n",
        "1) As expected the particle is most likely to be found at the origin.\n",
        "\n",
        "2) At a given number of steps, the probability distribution for the particle's position is Gaussian-like as one might expect from the central limit theorem.\n",
        "\n",
        "3) While the mean of the distribution remains zero, the standard deviation keeps increasing with the number of steps. This is the diffusion process."
      ]
    },
    {
      "cell_type": "code",
      "metadata": {
        "id": "LZtzTdl4fq64"
      },
      "source": [
        ""
      ],
      "execution_count": null,
      "outputs": []
    }
  ]
}